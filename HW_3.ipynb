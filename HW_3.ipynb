{
 "cells": [
  {
   "cell_type": "markdown",
   "id": "52705ce3",
   "metadata": {
    "id": "52705ce3"
   },
   "source": [
    "# HW-3 CNN超參數設定實驗報告"
   ]
  },
  {
   "cell_type": "markdown",
   "id": "f4ac47a5",
   "metadata": {
    "id": "f4ac47a5"
   },
   "source": [
    "## 導入資料庫"
   ]
  },
  {
   "cell_type": "code",
   "execution_count": 1,
   "id": "8f4f9707",
   "metadata": {
    "id": "8f4f9707"
   },
   "outputs": [],
   "source": [
    "import os\n",
    "import random\n",
    "import keras\n",
    "import matplotlib.pyplot as plt\n",
    "import numpy as np\n",
    "import pandas as pd\n",
    "import tensorflow as tf\n",
    "\n",
    "\n",
    "from tensorflow.keras.datasets import cifar10\n",
    "from tensorflow.keras.models import Sequential\n",
    "from tensorflow.keras.layers import Conv2D ,Dense ,Activation ,MaxPooling2D ,Dropout ,Flatten\n",
    "from tensorflow.keras.optimizers import RMSprop,SGD,Adam\n",
    "from keras.utils import np_utils\n",
    "from PIL import Image"
   ]
  },
  {
   "cell_type": "markdown",
   "id": "a5350e83",
   "metadata": {
    "id": "a5350e83"
   },
   "source": [
    "## LOAD DATA"
   ]
  },
  {
   "cell_type": "code",
   "execution_count": 2,
   "id": "e21054b5",
   "metadata": {
    "colab": {
     "base_uri": "https://localhost:8080/"
    },
    "id": "e21054b5",
    "outputId": "91f62c9d-10ad-43eb-dda5-a9858a9dd92c",
    "scrolled": true
   },
   "outputs": [
    {
     "name": "stdout",
     "output_type": "stream",
     "text": [
      "x_train shape: (50000, 32, 32, 3)\n",
      "50000 train samples\n",
      "10000 test samples\n"
     ]
    }
   ],
   "source": [
    "(x_train, y_train), (x_test, y_test) = cifar10.load_data()\n",
    "print('x_train shape:', x_train.shape)\n",
    "print(x_train.shape[0], 'train samples')\n",
    "print(x_test.shape[0], 'test samples')"
   ]
  },
  {
   "cell_type": "markdown",
   "id": "71523546",
   "metadata": {
    "id": "71523546"
   },
   "source": [
    "# 參數設定"
   ]
  },
  {
   "cell_type": "code",
   "execution_count": 3,
   "id": "b299fa70",
   "metadata": {
    "id": "b299fa70"
   },
   "outputs": [],
   "source": [
    "#總共有幾種\n",
    "batch_size = 128\n",
    "num_classes = 10\n",
    "epochs = 10"
   ]
  },
  {
   "cell_type": "markdown",
   "id": "3302cd69",
   "metadata": {
    "id": "3302cd69"
   },
   "source": [
    "# 資料前處裡"
   ]
  },
  {
   "cell_type": "code",
   "execution_count": 4,
   "id": "51e97070",
   "metadata": {
    "id": "51e97070"
   },
   "outputs": [],
   "source": [
    "#正規化\n",
    "x_train = x_train.astype('float32')\n",
    "x_test = x_test.astype('float32')\n",
    "x_train /= 255\n",
    "x_test /= 255\n",
    "\n",
    "#one-hot encoding\n",
    "y_train = np_utils.to_categorical(y_train, num_classes)\n",
    "y_test  = np_utils.to_categorical(y_test, num_classes)"
   ]
  },
  {
   "cell_type": "markdown",
   "id": "dbe245b5",
   "metadata": {
    "id": "dbe245b5"
   },
   "source": [
    "## Build Model"
   ]
  },
  {
   "cell_type": "code",
   "execution_count": 5,
   "id": "8f729be3",
   "metadata": {
    "colab": {
     "base_uri": "https://localhost:8080/"
    },
    "id": "8f729be3",
    "outputId": "187200c3-851e-4419-81ae-176b5deb9374",
    "scrolled": true
   },
   "outputs": [
    {
     "name": "stdout",
     "output_type": "stream",
     "text": [
      "Model: \"sequential\"\n",
      "_________________________________________________________________\n",
      " Layer (type)                Output Shape              Param #   \n",
      "=================================================================\n",
      " conv2d (Conv2D)             (None, 32, 32, 16)        448       \n",
      "                                                                 \n",
      " max_pooling2d (MaxPooling2D  (None, 10, 10, 16)       0         \n",
      " )                                                               \n",
      "                                                                 \n",
      " flatten (Flatten)           (None, 1600)              0         \n",
      "                                                                 \n",
      " dense (Dense)               (None, 128)               204928    \n",
      "                                                                 \n",
      " dense_1 (Dense)             (None, 10)                1290      \n",
      "                                                                 \n",
      "=================================================================\n",
      "Total params: 206,666\n",
      "Trainable params: 206,666\n",
      "Non-trainable params: 0\n",
      "_________________________________________________________________\n"
     ]
    }
   ],
   "source": [
    "#編輯model\n",
    "model = Sequential()\n",
    "#卷積層\n",
    "model.add(Conv2D(filters=16, kernel_size=(3,3), input_shape=(32,32,3), activation='relu', padding='same'))\n",
    "#池化層\n",
    "model.add(MaxPooling2D(pool_size=(3,3)))\n",
    "#Flatten層\n",
    "model.add(Flatten())\n",
    "#全連接層\n",
    "model.add(Dense(128, activation='relu'))\n",
    "#輸出層\n",
    "model.add(Dense(10, activation='softmax'))\n",
    "\n",
    "\n",
    "model.summary()\n",
    "\n"
   ]
  },
  {
   "cell_type": "code",
   "execution_count": 6,
   "id": "73701ca2",
   "metadata": {
    "colab": {
     "base_uri": "https://localhost:8080/"
    },
    "id": "73701ca2",
    "outputId": "5d22dd55-ba6e-4e3b-d9b5-92d33c1f0f11"
   },
   "outputs": [
    {
     "name": "stdout",
     "output_type": "stream",
     "text": [
      "Epoch 1/10\n",
      "391/391 [==============================] - 5s 13ms/step - loss: 1.7110 - accuracy: 0.3905 - val_loss: 1.5636 - val_accuracy: 0.4469\n",
      "Epoch 2/10\n",
      "391/391 [==============================] - 5s 13ms/step - loss: 1.3748 - accuracy: 0.5178 - val_loss: 1.3132 - val_accuracy: 0.5418\n",
      "Epoch 3/10\n",
      "391/391 [==============================] - 5s 12ms/step - loss: 1.2591 - accuracy: 0.5594 - val_loss: 1.1899 - val_accuracy: 0.5831\n",
      "Epoch 4/10\n",
      "391/391 [==============================] - 5s 13ms/step - loss: 1.1742 - accuracy: 0.5907 - val_loss: 1.2149 - val_accuracy: 0.5792\n",
      "Epoch 5/10\n",
      "391/391 [==============================] - 5s 13ms/step - loss: 1.1087 - accuracy: 0.6140 - val_loss: 1.1565 - val_accuracy: 0.5944\n",
      "Epoch 6/10\n",
      "391/391 [==============================] - 5s 13ms/step - loss: 1.0545 - accuracy: 0.6318 - val_loss: 1.1150 - val_accuracy: 0.6072\n",
      "Epoch 7/10\n",
      "391/391 [==============================] - 5s 13ms/step - loss: 1.0071 - accuracy: 0.6509 - val_loss: 1.0596 - val_accuracy: 0.6304\n",
      "Epoch 8/10\n",
      "391/391 [==============================] - 5s 13ms/step - loss: 0.9664 - accuracy: 0.6636 - val_loss: 1.0995 - val_accuracy: 0.6152\n",
      "Epoch 9/10\n",
      "391/391 [==============================] - 5s 13ms/step - loss: 0.9281 - accuracy: 0.6768 - val_loss: 1.0628 - val_accuracy: 0.6308\n",
      "Epoch 10/10\n",
      "391/391 [==============================] - 5s 14ms/step - loss: 0.8906 - accuracy: 0.6882 - val_loss: 1.0698 - val_accuracy: 0.6287\n"
     ]
    }
   ],
   "source": [
    "model.compile(loss='categorical_crossentropy',\n",
    "              optimizer=RMSprop(),\n",
    "              metrics=['accuracy'])\n",
    "\n",
    "train_history = model.fit(x_train, y_train,\n",
    "                    batch_size=batch_size,\n",
    "                    epochs=epochs,\n",
    "                    verbose=1,\n",
    "                    validation_data=(x_test, y_test),\n",
    "                    shuffle=True)\n",
    "\n",
    "\n",
    "\n",
    "#print('Test loss:', score[0])\n",
    "#print('Test accuracy:', score[1])"
   ]
  },
  {
   "cell_type": "markdown",
   "id": "7f56d6ab",
   "metadata": {
    "id": "7f56d6ab"
   },
   "source": [
    "## 訓練歷程"
   ]
  },
  {
   "cell_type": "code",
   "execution_count": 7,
   "id": "c593e69f",
   "metadata": {
    "colab": {
     "base_uri": "https://localhost:8080/",
     "height": 295
    },
    "id": "c593e69f",
    "outputId": "1aceccb4-931d-4967-f652-a715346c03c3",
    "scrolled": true
   },
   "outputs": [
    {
     "data": {
      "image/png": "[encoded data removed]",
      "text/plain": [
       "<Figure size 432x288 with 1 Axes>"
      ]
     },
     "metadata": {
      "needs_background": "light"
     },
     "output_type": "display_data"
    }
   ],
   "source": [
    "def show_train_history_acc(train_acc,test_acc):\n",
    "    plt.plot(train_history.history[train_acc])\n",
    "    plt.plot(train_history.history[test_acc])\n",
    "    plt.title('Train History')\n",
    "    plt.ylabel('Accuracy')\n",
    "    plt.xlabel('Epoch')\n",
    "    plt.legend(['train', 'test'], loc='upper left')\n",
    "    plt.show()\n",
    "    \n",
    "\n",
    "    \n",
    "show_train_history_acc('accuracy','val_accuracy')\n",
    "\n"
   ]
  },
  {
   "cell_type": "code",
   "execution_count": 7,
   "id": "eb5ae20a",
   "metadata": {
    "id": "eb5ae20a"
   },
   "outputs": [],
   "source": []
  },
  {
   "cell_type": "code",
   "execution_count": 7,
   "id": "1319f5c9",
   "metadata": {
    "id": "1319f5c9"
   },
   "outputs": [],
   "source": []
  }
 ],
 "metadata": {
  "accelerator": "GPU",
  "colab": {
   "collapsed_sections": [],
   "name": "HW_3.ipynb",
   "provenance": []
  },
  "kernelspec": {
   "display_name": "Python 3 (ipykernel)",
   "language": "python",
   "name": "python3"
  },
  "language_info": {
   "codemirror_mode": {
    "name": "ipython",
    "version": 3
   },
   "file_extension": ".py",
   "mimetype": "text/x-python",
   "name": "python",
   "nbconvert_exporter": "python",
   "pygments_lexer": "ipython3",
   "version": "3.9.10"
  }
 },
 "nbformat": 4,
 "nbformat_minor": 5
}
