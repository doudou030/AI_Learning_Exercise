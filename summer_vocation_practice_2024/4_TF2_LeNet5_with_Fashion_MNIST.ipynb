{
  "nbformat": 4,
  "nbformat_minor": 0,
  "metadata": {
    "colab": {
      "provenance": [],
      "gpuType": "T4"
    },
    "kernelspec": {
      "name": "python3",
      "display_name": "Python 3"
    },
    "language_info": {
      "name": "python"
    },
    "accelerator": "GPU"
  },
  "cells": [
    {
      "cell_type": "markdown",
      "source": [
        "# 1. import tensorflow library"
      ],
      "metadata": {
        "id": "7lleifGY9q51"
      }
    },
    {
      "cell_type": "code",
      "source": [
        "import tensorflow as tf"
      ],
      "metadata": {
        "id": "GGCZ44hxPA6-"
      },
      "execution_count": null,
      "outputs": []
    },
    {
      "cell_type": "markdown",
      "source": [
        "# 2. 載入Fashion MNIST dataset"
      ],
      "metadata": {
        "id": "G_MTnFO19swc"
      }
    },
    {
      "cell_type": "code",
      "source": [
        "fashion_mnist = tf.keras.datasets.fashion_mnist\n",
        "(train_images, train_labels), (test_images, test_labels) = fashion_mnist.load_data()"
      ],
      "metadata": {
        "id": "EJeGqqkvPBDe",
        "colab": {
          "base_uri": "https://localhost:8080/"
        },
        "outputId": "582a03d3-a7cc-4b19-9a79-d05c8cd56741"
      },
      "execution_count": null,
      "outputs": [
        {
          "output_type": "stream",
          "name": "stdout",
          "text": [
            "Downloading data from https://storage.googleapis.com/tensorflow/tf-keras-datasets/train-labels-idx1-ubyte.gz\n",
            "29515/29515 [==============================] - 0s 0us/step\n",
            "Downloading data from https://storage.googleapis.com/tensorflow/tf-keras-datasets/train-images-idx3-ubyte.gz\n",
            "26421880/26421880 [==============================] - 1s 0us/step\n",
            "Downloading data from https://storage.googleapis.com/tensorflow/tf-keras-datasets/t10k-labels-idx1-ubyte.gz\n",
            "5148/5148 [==============================] - 0s 0us/step\n",
            "Downloading data from https://storage.googleapis.com/tensorflow/tf-keras-datasets/t10k-images-idx3-ubyte.gz\n",
            "4422102/4422102 [==============================] - 1s 0us/step\n"
          ]
        }
      ]
    },
    {
      "cell_type": "markdown",
      "source": [
        "# 3. 定義model與loss function"
      ],
      "metadata": {
        "id": "7_0PsL8C9z6w"
      }
    },
    {
      "cell_type": "code",
      "source": [
        "model = tf.keras.models.Sequential([\n",
        "    tf.keras.layers.Conv2D(6, kernel_size=(5, 5), activation='relu', input_shape=(28, 28, 1)),\n",
        "    tf.keras.layers.AveragePooling2D(),\n",
        "    tf.keras.layers.Conv2D(16, kernel_size=(5, 5), activation='relu'),\n",
        "    tf.keras.layers.AveragePooling2D(),\n",
        "    tf.keras.layers.Flatten(),\n",
        "    tf.keras.layers.Dense(120, activation='relu'),\n",
        "    tf.keras.layers.Dense(84, activation='relu'),\n",
        "    tf.keras.layers.Dense(10)\n",
        "])\n",
        "\n",
        "loss_fn = tf.keras.losses.SparseCategoricalCrossentropy(from_logits=True)\n",
        "\n",
        "model.compile(optimizer='RMSProp',\n",
        "              loss=loss_fn,\n",
        "              metrics=['accuracy'])"
      ],
      "metadata": {
        "id": "DDhZxrhwPBJK"
      },
      "execution_count": null,
      "outputs": []
    },
    {
      "cell_type": "markdown",
      "source": [
        "# 4. Training model"
      ],
      "metadata": {
        "id": "_OZZpUSw92hO"
      }
    },
    {
      "cell_type": "code",
      "source": [
        "model.fit(train_images, train_labels, , batch_size = 32, epochs=10)"
      ],
      "metadata": {
        "id": "Bpb7REn792Ia",
        "colab": {
          "base_uri": "https://localhost:8080/"
        },
        "outputId": "ad387c08-535d-4c9e-a168-4b7a43d6e1fd"
      },
      "execution_count": null,
      "outputs": [
        {
          "output_type": "stream",
          "name": "stdout",
          "text": [
            "Epoch 1/10\n",
            "1875/1875 [==============================] - 8s 4ms/step - loss: 0.4709 - accuracy: 0.8292\n",
            "Epoch 2/10\n",
            "1875/1875 [==============================] - 7s 4ms/step - loss: 0.3494 - accuracy: 0.8709\n",
            "Epoch 3/10\n",
            "1875/1875 [==============================] - 8s 4ms/step - loss: 0.3125 - accuracy: 0.8837\n",
            "Epoch 4/10\n",
            "1875/1875 [==============================] - 7s 4ms/step - loss: 0.2876 - accuracy: 0.8925\n",
            "Epoch 5/10\n",
            "1875/1875 [==============================] - 7s 4ms/step - loss: 0.2674 - accuracy: 0.8992\n",
            "Epoch 6/10\n",
            "1875/1875 [==============================] - 8s 4ms/step - loss: 0.2501 - accuracy: 0.9053\n",
            "Epoch 7/10\n",
            "1875/1875 [==============================] - 7s 4ms/step - loss: 0.2389 - accuracy: 0.9092\n",
            "Epoch 8/10\n",
            "1875/1875 [==============================] - 8s 4ms/step - loss: 0.2291 - accuracy: 0.9141\n",
            "Epoch 9/10\n",
            "1875/1875 [==============================] - 7s 4ms/step - loss: 0.2163 - accuracy: 0.9181\n",
            "Epoch 10/10\n",
            "1875/1875 [==============================] - 8s 4ms/step - loss: 0.2083 - accuracy: 0.9207\n"
          ]
        },
        {
          "output_type": "execute_result",
          "data": {
            "text/plain": [
              "<keras.src.callbacks.History at 0x7f517392e770>"
            ]
          },
          "metadata": {},
          "execution_count": 5
        }
      ]
    },
    {
      "cell_type": "markdown",
      "source": [
        "# 5. Evaluate model"
      ],
      "metadata": {
        "id": "AMAVHOsY-Lfx"
      }
    },
    {
      "cell_type": "code",
      "source": [
        "model.evaluate(test_images,  test_labels, verbose=2)"
      ],
      "metadata": {
        "id": "tbi95VwV-L6o",
        "colab": {
          "base_uri": "https://localhost:8080/"
        },
        "outputId": "9443df44-a767-4c6f-8996-2c5d620be787"
      },
      "execution_count": null,
      "outputs": [
        {
          "output_type": "stream",
          "name": "stdout",
          "text": [
            "313/313 - 1s - loss: 0.3304 - accuracy: 0.8917 - 824ms/epoch - 3ms/step\n"
          ]
        },
        {
          "output_type": "execute_result",
          "data": {
            "text/plain": [
              "[0.33038580417633057, 0.891700029373169]"
            ]
          },
          "metadata": {},
          "execution_count": 6
        }
      ]
    },
    {
      "cell_type": "code",
      "source": [
        "# 定義 Fashion MNIST 的類別名稱列表\n",
        "class_names = ['T-shirt/top', 'Trouser', 'Pullover', 'Dress', 'Coat',\n",
        "               'Sandal', 'Shirt', 'Sneaker', 'Bag', 'Ankle boot']"
      ],
      "metadata": {
        "id": "wdKjIV9NHpIW"
      },
      "execution_count": null,
      "outputs": []
    },
    {
      "cell_type": "code",
      "source": [
        "import matplotlib.pyplot as plt\n",
        "import random\n",
        "\n",
        "# 隨機選擇一張測試圖像\n",
        "index = random.randint(0, len(test_images) - 1)\n",
        "image = test_images[index]\n",
        "true_class = test_labels[index]\n",
        "print('True class: ', class_names[true_class])\n",
        "\n",
        "# 顯示圖像\n",
        "plt.imshow(image, cmap='gray')\n",
        "plt.show()\n",
        "\n",
        "\n",
        "\n",
        "image = image / 255.0\n",
        "image = image.reshape(1, 28, 28)"
      ],
      "metadata": {
        "colab": {
          "base_uri": "https://localhost:8080/",
          "height": 447
        },
        "id": "N2Fk67pLFqA3",
        "outputId": "865ecdb6-ce11-4e55-d008-a578760f3df6"
      },
      "execution_count": null,
      "outputs": [
        {
          "output_type": "stream",
          "name": "stdout",
          "text": [
            "True class:  Sneaker\n"
          ]
        },
        {
          "output_type": "display_data",
          "data": {
            "text/plain": [
              "<Figure size 640x480 with 1 Axes>"
            ],
            "image/png": "[encoded data removed]"
          },
          "metadata": {}
        }
      ]
    },
    {
      "cell_type": "code",
      "source": [
        "prediction = model.predict(image)\n",
        "predicted_class = prediction.argmax()\n",
        "\n",
        "# 輸出預測的類別名稱\n",
        "print('預測的結果：', class_names[predicted_class])"
      ],
      "metadata": {
        "colab": {
          "base_uri": "https://localhost:8080/"
        },
        "id": "dkRkIFetFrGh",
        "outputId": "c6d92560-56fa-4f49-8878-69529848c5f7"
      },
      "execution_count": null,
      "outputs": [
        {
          "output_type": "stream",
          "name": "stdout",
          "text": [
            "1/1 [==============================] - 0s 17ms/step\n",
            "預測的結果： Sneaker\n"
          ]
        }
      ]
    },
    {
      "cell_type": "markdown",
      "source": [
        "# 作業\n",
        "- 嘗試看看不同的參數跟組合，求出最好的accuracy\n",
        "  - optimizer\n",
        "    - Gradient Descent\n",
        "    - Momentum\n",
        "    - Adagrad\n",
        "    - RMSProp\n",
        "    - Adam\n",
        "  - number of epochs\n",
        "  - batch_size\n",
        "  - activation function\n",
        "      - sigmoid\n",
        "      - relu\n",
        "      - leaky_relu\n",
        "  - model architecture\n",
        "    - convolution kernel size\n",
        "    - channel size\n",
        "    \n",
        "\n",
        "  "
      ],
      "metadata": {
        "id": "S16smywB-MaC"
      }
    },
    {
      "cell_type": "code",
      "source": [],
      "metadata": {
        "id": "UWMyoIxD-MSG"
      },
      "execution_count": null,
      "outputs": []
    }
  ]
}